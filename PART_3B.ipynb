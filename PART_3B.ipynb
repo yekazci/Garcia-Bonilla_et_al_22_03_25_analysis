{
 "cells": [
  {
   "cell_type": "markdown",
   "id": "c1a8a968-675d-4132-90e9-83e7519054de",
   "metadata": {},
   "source": [
    "Try TF-regulon logFC deviation analysis using all genes with a LogFC value from the DE analysis."
   ]
  },
  {
   "cell_type": "code",
   "execution_count": null,
   "id": "8b15759f-713f-48e1-af86-f87ee2b8c731",
   "metadata": {},
   "outputs": [],
   "source": []
  },
  {
   "cell_type": "code",
   "execution_count": null,
   "id": "d65f52ab-eeb0-4de9-83c8-343125458f93",
   "metadata": {},
   "outputs": [],
   "source": []
  },
  {
   "cell_type": "code",
   "execution_count": null,
   "id": "dc0da7ef-d057-41d8-bfaf-90d9ad066873",
   "metadata": {},
   "outputs": [],
   "source": []
  },
  {
   "cell_type": "code",
   "execution_count": null,
   "id": "9119b05d-981b-4477-822e-b97cc599ca2e",
   "metadata": {},
   "outputs": [],
   "source": []
  }
 ],
 "metadata": {
  "kernelspec": {
   "display_name": "R",
   "language": "R",
   "name": "ir"
  },
  "language_info": {
   "codemirror_mode": "r",
   "file_extension": ".r",
   "mimetype": "text/x-r-source",
   "name": "R",
   "pygments_lexer": "r",
   "version": "4.4.2"
  }
 },
 "nbformat": 4,
 "nbformat_minor": 5
}
